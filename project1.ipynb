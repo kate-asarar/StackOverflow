{
 "cells": [
  {
   "cell_type": "markdown",
   "metadata": {},
   "source": [
    "This page is used to answer three main questions using Stackoverflow data. \n",
    "• How has the salary changed over the years and what has had the biggest influence on the salary\n",
    "• Is there a correlation between any of the number of programming languages one uses, experiance in years and gender?\n",
    "• Is there a significant difference in programming languages and salary depending on gender or education level?\n"
   ]
  },
  {
   "cell_type": "code",
   "execution_count": 899,
   "metadata": {},
   "outputs": [],
   "source": [
    "# import numpy as np\n",
    "import pandas as pd\n",
    "import matplotlib.pyplot as plt\n",
    "import seaborn as sns\n",
    "import distutils.util as util\n",
    "import numpy as np\n",
    "from collections import Counter\n",
    "from matplotlib.font_manager import FontProperties\n",
    "import os\n",
    "from re import split\n",
    "%matplotlib inline"
   ]
  },
  {
   "cell_type": "code",
   "execution_count": 525,
   "metadata": {},
   "outputs": [
    {
     "name": "stderr",
     "output_type": "stream",
     "text": [
      "C:\\Users\\Savo\\anaconda3\\lib\\site-packages\\IPython\\core\\interactiveshell.py:3254: DtypeWarning: Columns (46,48,62) have mixed types.Specify dtype option on import or set low_memory=False.\n",
      "  if (await self.run_code(code, result,  async_=asy)):\n",
      "C:\\Users\\Savo\\anaconda3\\lib\\site-packages\\IPython\\core\\interactiveshell.py:3254: DtypeWarning: Columns (5,108,121,196,197,198) have mixed types.Specify dtype option on import or set low_memory=False.\n",
      "  if (await self.run_code(code, result,  async_=asy)):\n",
      "C:\\Users\\Savo\\anaconda3\\lib\\site-packages\\IPython\\core\\interactiveshell.py:3254: DtypeWarning: Columns (8,12,13,14,15,16,50,51,52,53,55,56,57,58,59,60,61,62,63,64,65,66,67,68,69,70,71,72,73,74,75,76,77,78,79,80,81,82,83,84,85,93,94,95,96,97,98,99,100,101,102,103,104,105,106,107,108,109,110,111,112,113,114,115,116,117,118,119,120,121,122,123,124,125,126,127,128) have mixed types.Specify dtype option on import or set low_memory=False.\n",
      "  if (await self.run_code(code, result,  async_=asy)):\n"
     ]
    }
   ],
   "source": [
    "# read in the data from data folder\n",
    "def read_in_data():\n",
    "    data_dict = {}\n",
    "    suffix=\".csv\"\n",
    "    path_to_data = "" # add path here leading to the downloaded data
    "    filenames = os.listdir(r\path)\n",
    "    filenameslist = [ filename for filename in filenames if filename.endswith( suffix ) ]\n",
    "    for file in filenameslist:\n",
    "        year = split('[|_| .| ]| ' , file)[2]\n",
    "        data = pd.read_csv(r\"PATHTOFILES\\{}\".format(file),encoding='latin1')\n", # Replace PATHTOFILES with the path to the files
    "        data_dict[year] = data\n",
    "    return data_dict\n",
    "\n",
    "# Declare universal variables \n",
    "years = ['2011', '2012', '2013', '2014', '2015', '2016', '2017', '2018', '2019']\n",
    "languages = ['Java', 'JavaScript', 'CSS', 'PHP', 'Python', 'Ruby', 'SQL', 'C#', 'C++', 'C', 'Perl', 'None', 'Other']\n",
    "\n",
    "# Rplace column headers with first row for years 2011 to 2014 \n",
    "def replace_header():\n",
    "    for year in years[0:5]:\n",
    "        new_headers = list(data_dict[year].iloc[0])\n",
    "        data_dict[year] = data_dict[year][1:]\n",
    "        data_dict[year].columns = new_headers\n",
    "\n",
    "\n",
    "data_dict = read_in_data()\n",
    "replace_header()"
   ]
  },
  {
   "cell_type": "code",
   "execution_count": 526,
   "metadata": {},
   "outputs": [],
   "source": [
    "# Get language columns 2015\n",
    "\n",
    "cols = data_dict['2015'].columns\n",
    "language_columns_2015 = []\n",
    "def get_language_columns_2015():\n",
    "    for col in cols:\n",
    "        for language in languages:\n",
    "            if language in col and 'Current Lang & Tech' in col: \n",
    "                language_columns_2015.append(col)\n",
    "    return np.unique(language_columns_2015)"
   ]
  },
  {
   "cell_type": "code",
   "execution_count": 527,
   "metadata": {},
   "outputs": [],
   "source": [
    "# Get language columns for 2011 to 2014 dataframe\n",
    "\n",
    "def add_language_column_2011_2014():\n",
    "    for year in years[0:4]:\n",
    "        data_dict[year]['languages_worked_on'] = \"\"\n",
    "        for i in list(data_dict[year].index):\n",
    "            languages_worked_on = []\n",
    "            for language in languages: \n",
    "                if language in data_dict[year].columns:\n",
    "                    try: \n",
    "                        if data_dict[year].loc[i, [language]].notna().any():\n",
    "                            languages_worked_on.append(''.join(language.split()))\n",
    "                    except Exception as e: \n",
    "                        print('Row: {} Language: {} year: {} error: {}'.format(i, language, year, e))\n",
    "            languages_worked_on = ';'.join(languages_worked_on)\n",
    "            data_dict[year].loc[i, ['languages_worked_on']] = languages_worked_on\n"
   ]
  },
  {
   "cell_type": "code",
   "execution_count": 528,
   "metadata": {},
   "outputs": [],
   "source": [
    "# Add languages worked on column to 2015 dataset\n",
    "\n",
    "def add_language_columns_2015():\n",
    "    language_columns_2015 = get_language_columns_2015()\n",
    "    data_dict['2015']['languages_worked_on'] = \"\"\n",
    "    for i in list(data_dict['2015'].index):\n",
    "        languages_worked_on = []\n",
    "        for col in language_columns_2015:\n",
    "            language = col.split(':')[1]\n",
    "            if data_dict['2015'].loc[i, [col]].notna().any():\n",
    "                languages_worked_on.append(language)\n",
    "        languages_worked_on = ';'.join(languages_worked_on)\n",
    "        data_dict['2015'].loc[i, ['languages_worked_on']] = languages_worked_on\n",
    "                "
   ]
  },
  {
   "cell_type": "code",
   "execution_count": 536,
   "metadata": {},
   "outputs": [],
   "source": [
    "data_dict['2016'].rename(columns={\"tech_do\": \"languages_worked_on\"}, inplace=True)\n",
    "data_dict['2017'].rename(columns={\"HaveWorkedLanguage\": \"languages_worked_on\"}, inplace=True)\n",
    "data_dict['2018'].rename(columns={\"LanguageWorkedWith\": \"languages_worked_on\"}, inplace=True)\n",
    "data_dict['2019'].rename(columns={\"LanguageWorkedWith\": \"languages_worked_on\"}, inplace=True)\n",
    "add_language_column_2011_2014()\n",
    "add_language_columns_2015()"
   ]
  },
  {
   "cell_type": "code",
   "execution_count": 537,
   "metadata": {},
   "outputs": [],
   "source": [
    "# Question 1: How has the programming language most used change over the years?\n",
    "\n",
    "languages_dict = {}\n",
    "for year in years:\n",
    "    new_lang = []\n",
    "    for row in data_dict[year].index[1:200]:\n",
    "        new_lang.extend(data_dict[year].loc[row, ['languages_worked_on']].to_string(index = False).split(';'))\n",
    "    new_lang = [''.join(l.split()) for l in new_lang]\n",
    "    counter = Counter(new_lang)\n",
    "    try: \n",
    "        del counter['NaN'] \n",
    "    except: \n",
    "        continue\n",
    "    most_common =  dict(counter.most_common(8))\n",
    "    most_common['Other'] = (sum(counter.values()) - sum(most_common.values()))\n",
    "    factor = 1/sum(counter.values())\n",
    "    most_common = {key:value*factor for key,value in most_common.items()}\n",
    "    languages_dict[year] = most_common\n",
    "   "
   ]
  },
  {
   "cell_type": "code",
   "execution_count": 904,
   "metadata": {},
   "outputs": [
    {
     "name": "stdout",
     "output_type": "stream",
     "text": [
      "Year:  2011    Languages:  ['SQL', 'JavaScript', 'CSS', 'Java', 'C#', 'C', 'PHP', 'C++', 'Other']\n",
      "Year:  2012    Languages:  ['SQL', 'JavaScript', 'Java', 'CSS', 'C#', 'PHP', 'C++', 'C', 'Other']\n",
      "Year:  2013    Languages:  ['JavaScript', 'SQL', 'Java', 'PHP', 'C#', 'Python', 'Other', 'C++']\n",
      "Year:  2014    Languages:  ['JavaScript', 'SQL', '', 'C#', 'Java', 'PHP', 'C++', 'Other']\n",
      "Year:  2015    Languages:  ['JavaScript', 'SQL', 'Java', 'C#', 'PHP', 'SQLServer', 'AngularJS', 'Android', 'Other']\n",
      "Year:  2016    Languages:  ['JavaScript', 'SQL', 'PHP', 'Java', 'C#', 'AngularJS', 'Android', 'Python', 'Other']\n",
      "Year:  2017    Languages:  ['JavaScript', 'SQL', 'Java', 'C#', 'Python', 'PHP', 'C++', 'C', 'Other']\n",
      "Year:  2018    Languages:  ['JavaScript', 'HTML', 'SQL', 'CSS', 'Java', 'C#', 'Python', 'PHP', 'Other']\n",
      "Year:  2019    Languages:  ['HTML/CSS', 'JavaScript', 'SQL', 'Java', 'Bash/Shell/PowerShell', 'C#', 'C++', 'Python', 'Other']\n"
     ]
    }
   ],
   "source": [
    "# Have a look at the most populare languages per year\n",
    "for year in years: \n",
    "    print('Year: ', year, '   Languages: ', list(languages_dict[year]))"
   ]
  },
  {
   "cell_type": "code",
   "execution_count": 898,
   "metadata": {},
   "outputs": [
    {
     "data": {
      "image/png": "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\n",
      "text/plain": [
       "<Figure size 432x288 with 1 Axes>"
      ]
     },
     "metadata": {
      "needs_background": "light"
     },
     "output_type": "display_data"
    }
   ],
   "source": [
    "# Plot results \n",
    "def plot_common_languages():\n",
    "    pd.DataFrame(languages_dict).T.plot(kind='bar')\n",
    "    # Put a legend to the right of the current axis\n",
    "    plt.legend(loc='center left', bbox_to_anchor=(1, 0.5))\n",
    "    plt.show()\n",
    "    \n",
    "plot_common_languages()"
   ]
  },
  {
   "cell_type": "code",
   "execution_count": 591,
   "metadata": {},
   "outputs": [],
   "source": [
    "# Answer question2: Is there a link between the programming languages and salary?\n",
    "def add_number_of_languages_column():\n",
    "    for year in years:\n",
    "        for row in data_dict[year].index:\n",
    "            lang = data_dict[year].loc[row, ['languages_worked_on']].to_string(index = False).split(';')\n",
    "            if lang == [' '] or lang == [' NaN']: \n",
    "                nr_lang = 0\n",
    "                data_dict[year].loc[row,['number_of_languages']] = nr_lang\n",
    "            else: \n",
    "                nr_lang = len(lang)\n",
    "                data_dict[year].loc[row, ['number_of_languages']] = nr_lang\n",
    "add_number_of_languages_column()"
   ]
  },
  {
   "cell_type": "code",
   "execution_count": 885,
   "metadata": {},
   "outputs": [],
   "source": [
    "df = data_dict['2019']\n",
    "df =df.loc[(df['number_of_languages'] > 0 ) & (df['MainBranch'] == 'I am a developer by profession')] \n",
    "df = df.loc[df['Gender'].isin(['Man', 'Woman'])]\n",
    "df.rename(columns = {'ConvertedComp' : 'Salary'}, inplace=True)\n"
   ]
  },
  {
   "cell_type": "code",
   "execution_count": 879,
   "metadata": {},
   "outputs": [
    {
     "data": {
      "image/png": "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\n",
      "text/plain": [
       "<Figure size 432x288 with 2 Axes>"
      ]
     },
     "metadata": {
      "needs_background": "light"
     },
     "output_type": "display_data"
    }
   ],
   "source": [
    "# Question 2: Meassure correlation between Salary, Gender, Years spent coding and number of programming languages used\n",
    "\n",
    "df_corr = df[['Gender', 'Salary', 'YearsCode', 'number_of_languages']]\n",
    "df_corr['Gender'][df_corr['Gender'] == 'Man'] = 0\n",
    "df_corr['Gender'][df_corr['Gender'] == 'Woman'] = 1\n",
    "df_corr['YearsCode'][df_corr['YearsCode'] == 'Less than 1 year'] = 0.5\n",
    "df_corr['YearsCode'][df_corr['YearsCode'] == 'More than 50 years'] = 60\n",
    "\n",
    "for col in df_corr.columns:\n",
    "    df_corr[pd.to_numeric(df[col], errors='coerce').notnull()]\n",
    "    df_corr[col] = df_corr[col].astype(float)\n",
    "    \n",
    "# Plot correlation matrix \n",
    "def plot_corr_matrix(df_corr):\n",
    "    corr = df_corr.corr()\n",
    "    ax = sns.heatmap(\n",
    "        corr, \n",
    "        vmin=-1, vmax=1, center=0,\n",
    "        cmap=sns.diverging_palette(20, 220, n=200),\n",
    "        square=True\n",
    "    )\n",
    "    ax.set_xticklabels(\n",
    "        ax.get_xticklabels(),\n",
    "        rotation=45,\n",
    "        horizontalalignment='right'\n",
    "    );\n",
    "    plt.savefig('CorrMatrix')\n",
    "    \n",
    "plot_corr_matrix(df_corr)"
   ]
  },
  {
   "cell_type": "code",
   "execution_count": null,
   "metadata": {},
   "outputs": [],
   "source": [
    "# Question 3: Visualize the effect of education and programming as a hobby on Salary\n",
    "df = data_dict['2019']\n",
    "df = df.loc[df['Gender'].isin(['Man', 'Woman'])]\n",
    "pd.DataFrame(df.query(\"MainBranch == 'I am a developer by profession' \").groupby(['Gender', 'EdLevel']).mean()['ConvertedComp'])"
   ]
  }
 ],
 "metadata": {
  "kernelspec": {
   "display_name": "Python 3",
   "language": "python",
   "name": "python3"
  },
  "language_info": {
   "codemirror_mode": {
    "name": "ipython",
    "version": 3
   },
   "file_extension": ".py",
   "mimetype": "text/x-python",
   "name": "python",
   "nbconvert_exporter": "python",
   "pygments_lexer": "ipython3",
   "version": "3.7.6"
  }
 },
 "nbformat": 4,
 "nbformat_minor": 4
}
